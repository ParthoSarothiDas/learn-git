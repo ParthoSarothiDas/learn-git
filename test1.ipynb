{
 "cells": [
  {
   "cell_type": "markdown",
   "id": "0fd9f17c-9091-4169-80c2-b801e1a1e167",
   "metadata": {},
   "source": [
    "# My first git upload"
   ]
  },
  {
   "cell_type": "code",
   "execution_count": 6,
   "id": "8139cc1f-5324-4ea3-b7b9-4fafc64ca92f",
   "metadata": {},
   "outputs": [
    {
     "name": "stdout",
     "output_type": "stream",
     "text": [
      "11\n"
     ]
    }
   ],
   "source": [
    "a = 5\n",
    "b = 6\n",
    "sum = a + b\n",
    "print(sum)"
   ]
  },
  {
   "cell_type": "code",
   "execution_count": 8,
   "id": "c2b55186-59af-4506-ab58-c07e7cefdf9f",
   "metadata": {},
   "outputs": [
    {
     "name": "stdout",
     "output_type": "stream",
     "text": [
      "30\n"
     ]
    }
   ],
   "source": [
    "product = a * b\n",
    "print(product)"
   ]
  },
  {
   "cell_type": "code",
   "execution_count": null,
   "id": "04c6b228-26eb-46c2-9064-59326691a3ea",
   "metadata": {},
   "outputs": [],
   "source": [
    "sub = b-"
   ]
  }
 ],
 "metadata": {
  "kernelspec": {
   "display_name": "Python [conda env:base] *",
   "language": "python",
   "name": "conda-base-py"
  },
  "language_info": {
   "codemirror_mode": {
    "name": "ipython",
    "version": 3
   },
   "file_extension": ".py",
   "mimetype": "text/x-python",
   "name": "python",
   "nbconvert_exporter": "python",
   "pygments_lexer": "ipython3",
   "version": "3.12.7"
  }
 },
 "nbformat": 4,
 "nbformat_minor": 5
}
